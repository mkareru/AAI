{
  "nbformat": 4,
  "nbformat_minor": 0,
  "metadata": {
    "colab": {
      "name": "Untitled3.ipynb",
      "provenance": [],
      "collapsed_sections": []
    },
    "kernelspec": {
      "name": "python3",
      "display_name": "Python 3"
    },
    "language_info": {
      "name": "python"
    }
  },
  "cells": [
    {
      "cell_type": "code",
      "metadata": {
        "id": "SyjDCrxoRjhQ"
      },
      "source": [
        "import turtle\n",
        "\n",
        "sc = turtle.Screen()\n",
        "pen = turtle.Turtle()\n",
        "\n",
        "def draw():\n",
        "  for i in range(4):\n",
        "    pen.forward(30)\n",
        "    pen.left(90)\n",
        "\n",
        "  pen.forward(30)\n",
        "\n",
        "if __name__ == \"__main__\" :\n",
        "  sc.setup(600, 600)\n",
        "  pen.speed(100)\n",
        "  for i in range(8):\n",
        "    pen.up()\n",
        "    pen.setpos(0, 30 * i)\n",
        "    pen.down()\n",
        "    for j in range(8):\n",
        "      if (i + j)% 2 == 0:\n",
        "        col ='black'\n",
        "      else:\n",
        "        col ='white'\n",
        "      \n",
        "      pen.fillcolor(col)\n",
        "      pen.begin_fill()\n",
        "      draw()\n",
        "      pen.end_fill()\n",
        "\n",
        "pen.hideturtle()"
      ],
      "execution_count": null,
      "outputs": []
    }
  ]
}